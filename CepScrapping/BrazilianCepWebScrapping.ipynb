{
 "cells": [
  {
   "cell_type": "markdown",
   "metadata": {},
   "source": [
    "Instalando Pacotes"
   ]
  },
  {
   "cell_type": "code",
   "execution_count": null,
   "metadata": {},
   "outputs": [],
   "source": [
    "!pip install beautifulsoup4\n",
    "!pip install requests\n",
    "!pip install pandas"
   ]
  },
  {
   "cell_type": "markdown",
   "metadata": {},
   "source": [
    "Função + extraindo cidades"
   ]
  },
  {
   "cell_type": "code",
   "execution_count": null,
   "metadata": {},
   "outputs": [],
   "source": [
    "import pandas as pd\n",
    "from bs4 import BeautifulSoup\n",
    "import requests\n",
    "\n",
    "url = \"https://listacep.com/ac/acrelandia/centro/avenida-parana-296/69945970\"\n",
    "\n",
    "headers = {\n",
    "    \"User-Agent\": \"Mozilla/5.0 (Windows NT 10.0; Win64; x64) AppleWebKit/537.36 (KHTML, like Gecko) Chrome/58.0.3029.110 Safari/537.36\"\n",
    "}\n",
    "\n",
    "# Função para extração de links\n",
    "def extract_links(url):\n",
    "    # fazendo o GET\n",
    "    response = requests.get(url, headers=headers)\n",
    "    soup = BeautifulSoup(response.text, 'html.parser')\n",
    "    empty_div = soup.find('div', class_='list__empty')\n",
    "    # Se encontrar a classe list__empty é pra ele retornar None\n",
    "    if empty_div:\n",
    "        print(f\"Não há informações de links para {url}\")\n",
    "        return None\n",
    "    else:\n",
    "        # se não é pra ele puxar as informações da lista\n",
    "        primeira_ul = soup.find('ul', class_='list__list')\n",
    "\n",
    "        if primeira_ul:\n",
    "            links = [a['href'] for a in primeira_ul.find_all('a')]\n",
    "            return links\n",
    "        else:\n",
    "            return []\n",
    "\n",
    "# link do site\n",
    "url = \"https://listacep.com/\"\n",
    "\n",
    "# extração dos estados\n",
    "estados_links = extract_links(url)\n",
    "\n",
    "# extração das cidades\n",
    "cidades_links = []\n",
    "for estado_link in estados_links:\n",
    "    cidades_links.extend(extract_links(estado_link))\n",
    "\n",
    "# caso ele encontre 2x a mesma informação ou repita algo que está na lista de estados por algum erro\n",
    "cidades_links = list(set(cidades_links)) \n",
    "cidades_links = [cidade for cidade in cidades_links if cidade not in estados_links]\n",
    "cidades_links"
   ]
  },
  {
   "cell_type": "markdown",
   "metadata": {},
   "source": [
    "Extraindo bairros"
   ]
  },
  {
   "cell_type": "code",
   "execution_count": null,
   "metadata": {},
   "outputs": [],
   "source": [
    "bairros_links = []\n",
    "max_attempts = 5\n",
    "\n",
    "cidades_sem_bairros = set()\n",
    "\n",
    "for cidade_link in cidades_links:\n",
    "\n",
    "    if cidade_link in cidades_sem_bairros:\n",
    "        continue\n",
    "\n",
    "    attempts = 0\n",
    "    while attempts < max_attempts:\n",
    "        try:\n",
    "            bairros = extract_links(cidade_link)\n",
    "            \n",
    "            if bairros is None:\n",
    "                cidades_sem_bairros.add(cidade_link)  \n",
    "                break  \n",
    "\n",
    "            bairros_links.extend(bairros)\n",
    "            break\n",
    "        except Exception as e:\n",
    "            print(f\"Erro ao processar {cidade_link}. Tentando novamente... ({attempts+1}/{max_attempts})\")\n",
    "            attempts += 1\n",
    "\n",
    "bairros_links = list(set(bairros_links))\n",
    "bairros_links = [bairro for bairro in bairros_links if bairro not in cidades_links]\n",
    "bairros_links"
   ]
  },
  {
   "cell_type": "markdown",
   "metadata": {},
   "source": [
    "Extraindo Ruas"
   ]
  },
  {
   "cell_type": "code",
   "execution_count": null,
   "metadata": {},
   "outputs": [],
   "source": [
    "ruas_links = []\n",
    "max_attempts = 5\n",
    "\n",
    "bairros_sem_ruas = set()\n",
    "\n",
    "for bairro_link in bairros_links:\n",
    "\n",
    "    if bairro_link in bairros_sem_ruas:\n",
    "        continue\n",
    "\n",
    "    attempts = 0\n",
    "    while attempts < max_attempts:\n",
    "        try:\n",
    "            ruas = extract_links(bairro_link)\n",
    "            \n",
    "            if ruas is None:\n",
    "                bairros_sem_ruas.add(bairro_link)  \n",
    "                break  \n",
    "\n",
    "            ruas_links.extend(ruas)\n",
    "            break\n",
    "        except Exception as e:\n",
    "            print(f\"Erro ao processar {ruas_links}. Tentando novamente... ({attempts+1}/{max_attempts})\")\n",
    "            attempts += 1\n",
    "\n",
    "ruas_links = list(set(ruas_links))\n",
    "ruas_links = [rua for rua in ruas_links if rua not in bairros_links]\n",
    "ruas_links"
   ]
  }
 ],
 "metadata": {
  "kernelspec": {
   "display_name": "base",
   "language": "python",
   "name": "python3"
  },
  "language_info": {
   "codemirror_mode": {
    "name": "ipython",
    "version": 3
   },
   "file_extension": ".py",
   "mimetype": "text/x-python",
   "name": "python",
   "nbconvert_exporter": "python",
   "pygments_lexer": "ipython3",
   "version": "3.11.4"
  },
  "orig_nbformat": 4
 },
 "nbformat": 4,
 "nbformat_minor": 2
}
