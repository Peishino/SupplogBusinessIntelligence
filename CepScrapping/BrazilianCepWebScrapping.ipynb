{
 "cells": [
  {
   "cell_type": "markdown",
   "metadata": {},
   "source": [
    "Instalando Pacotes"
   ]
  },
  {
   "cell_type": "code",
   "execution_count": null,
   "metadata": {},
   "outputs": [],
   "source": [
    "!pip install beautifulsoup4\n",
    "!pip install requests\n",
    "!pip install pandas"
   ]
  },
  {
   "cell_type": "markdown",
   "metadata": {},
   "source": [
    "Função + extraindo cidades"
   ]
  },
  {
   "cell_type": "code",
   "execution_count": null,
   "metadata": {},
   "outputs": [],
   "source": [
    "import pandas as pd\n",
    "from bs4 import BeautifulSoup\n",
    "import requests\n",
    "\n",
    "url = \"https://listacep.com/ac/acrelandia/centro/avenida-parana-296/69945970\"\n",
    "\n",
    "headers = {\n",
    "    \"User-Agent\": \"Mozilla/5.0 (Windows NT 10.0; Win64; x64) AppleWebKit/537.36 (KHTML, like Gecko) Chrome/58.0.3029.110 Safari/537.36\"\n",
    "}\n",
    "\n",
    "\n",
    "def extract_links(url):\n",
    "    response = requests.get(url, headers=headers)\n",
    "    soup = BeautifulSoup(response.text, 'html.parser')\n",
    "    primeira_ul = soup.find('ul', class_='list__list')\n",
    "\n",
    "    if primeira_ul:\n",
    "        links = [a['href'] for a in primeira_ul.find_all('a')]\n",
    "        return links\n",
    "    else:\n",
    "        return []\n",
    "\n",
    "\n",
    "url = \"https://listacep.com/\"\n",
    "\n",
    "estados_links = extract_links(url)\n",
    "\n",
    "cidades_links = []\n",
    "for estado_link in estados_links:\n",
    "    cidades_links.extend(extract_links(estado_link))\n",
    "\n",
    "cidades_links = list(set(cidades_links)) # removendo os dados repetidos\n",
    "cidades_links = [cidade for cidade in cidades_links if cidade not in estados_links]\n",
    "cidades_links"
   ]
  },
  {
   "cell_type": "markdown",
   "metadata": {},
   "source": [
    "Extraindo bairros"
   ]
  },
  {
   "cell_type": "code",
   "execution_count": 2,
   "metadata": {},
   "outputs": [],
   "source": [
    "bairros_links = []\n",
    "max_attempts = 5  \n",
    "for cidade_link in cidades_links:\n",
    "    attempts = 0\n",
    "    while attempts < max_attempts:\n",
    "        try:\n",
    "            bairros_links.extend(extract_links(cidade_link))\n",
    "            break\n",
    "        except Exception as e:\n",
    "            print(f\"Erro ao processar {cidade_link}. Tentando novamente... ({attempts+1}/{max_attempts})\")\n",
    "            attempts += 1\n",
    "\n",
    "\n",
    "bairros_links = list(set(bairros_links))\n",
    "bairros_links = [bairro for bairro in bairros_links if bairro not in cidades_links]\n",
    "bairros_links"
   ]
  },
  {
   "cell_type": "markdown",
   "metadata": {},
   "source": [
    "Extraindo Ruas"
   ]
  },
  {
   "cell_type": "code",
   "execution_count": null,
   "metadata": {},
   "outputs": [],
   "source": [
    "ruas_links = []\n",
    "max_attempts = 10  \n",
    "\n",
    "for bairro_link in bairros_links:\n",
    "    attempts = 0\n",
    "    while attempts < max_attempts:\n",
    "        try:\n",
    "            ruas_links.extend(extract_links(bairro_link))\n",
    "            break\n",
    "        except Exception as e:\n",
    "            print(f\"Erro ao processar {bairro_link}. Tentando novamente... ({attempts+1}/{max_attempts})\")\n",
    "            attempts += 1"
   ]
  }
 ],
 "metadata": {
  "kernelspec": {
   "display_name": "base",
   "language": "python",
   "name": "python3"
  },
  "language_info": {
   "codemirror_mode": {
    "name": "ipython",
    "version": 3
   },
   "file_extension": ".py",
   "mimetype": "text/x-python",
   "name": "python",
   "nbconvert_exporter": "python",
   "pygments_lexer": "ipython3",
   "version": "3.10.9"
  },
  "orig_nbformat": 4
 },
 "nbformat": 4,
 "nbformat_minor": 2
}
