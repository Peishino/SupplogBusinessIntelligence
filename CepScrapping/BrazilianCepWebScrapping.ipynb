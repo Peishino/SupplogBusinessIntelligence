{
 "cells": [
  {
   "cell_type": "markdown",
   "metadata": {},
   "source": [
    "Instalando Pacotes"
   ]
  },
  {
   "cell_type": "code",
   "execution_count": null,
   "metadata": {},
   "outputs": [],
   "source": [
    "!pip install beautifulsoup4\n",
    "!pip install requests\n",
    "!pip install pandas"
   ]
  },
  {
   "cell_type": "code",
   "execution_count": null,
   "metadata": {},
   "outputs": [],
   "source": [
    "import pandas as pd\n",
    "from bs4 import BeautifulSoup\n",
    "import requests\n",
    "from concurrent.futures import ThreadPoolExecutor"
   ]
  },
  {
   "cell_type": "markdown",
   "metadata": {},
   "source": [
    "Função + extraindo cidades"
   ]
  },
  {
   "cell_type": "code",
   "execution_count": null,
   "metadata": {},
   "outputs": [],
   "source": [
    "\n",
    "\n",
    "headers = {\n",
    "    \"User-Agent\": \"Mozilla/5.0 (Windows NT 10.0; Win64; x64) AppleWebKit/537.36 (KHTML, like Gecko) Chrome/58.0.3029.110 Safari/537.36\"\n",
    "}\n",
    "\n",
    "# Função para extração de links\n",
    "def extract_links(url):\n",
    "    # fazendo o GET\n",
    "    response = requests.get(url, headers=headers)\n",
    "    soup = BeautifulSoup(response.text, 'html.parser')\n",
    "    empty_div = soup.find('div', class_='list__empty')\n",
    "    # Se encontrar a classe list__empty é pra ele retornar None\n",
    "    if empty_div:\n",
    "        print(f\"Não há informações de links para {url}\")\n",
    "        return None\n",
    "    else:\n",
    "        # se não é pra ele puxar as informações da lista\n",
    "        primeira_ul = soup.find('ul', class_='list__list')\n",
    "\n",
    "        if primeira_ul:\n",
    "            links = [a['href'] for a in primeira_ul.find_all('a')]\n",
    "            return links\n",
    "        else:\n",
    "            return []\n",
    "\n",
    "# link do site\n",
    "url = \"https://listacep.com/\"\n",
    "\n",
    "# extração dos estados\n",
    "estados_links = extract_links(url)\n",
    "\n",
    "# extração das cidades\n",
    "cidades_links = []\n",
    "for estado_link in estados_links:\n",
    "    cidades_links.extend(extract_links(estado_link))\n",
    "\n",
    "# caso ele encontre 2x a mesma informação ou repita algo que está na lista de estados por algum erro\n",
    "cidades_links = list(set(cidades_links)) \n",
    "cidades_links = [cidade for cidade in cidades_links if cidade not in estados_links]\n",
    "cidades_links"
   ]
  },
  {
   "cell_type": "markdown",
   "metadata": {},
   "source": [
    "Extraindo bairros"
   ]
  },
  {
   "cell_type": "code",
   "execution_count": null,
   "metadata": {},
   "outputs": [],
   "source": [
    "# como estava demorando muito com a outra função decidi utilizar uma outra função:\n",
    "\n",
    "from concurrent.futures import ThreadPoolExecutor\n",
    "def extract_links2(url, max_attempts=5):\n",
    "    for attempt in range(max_attempts):\n",
    "        try:\n",
    "            response = requests.get(url, headers=headers, timeout=10)\n",
    "            response.raise_for_status()\n",
    "            soup = BeautifulSoup(response.text, 'html.parser')\n",
    "            empty_div = soup.find('div', class_='list__empty')\n",
    "\n",
    "            if empty_div:\n",
    "                print(f\"Não há informações de links para {url}\")\n",
    "                return []\n",
    "            else:\n",
    "                primeira_ul = soup.find('ul', class_='list__list')\n",
    "\n",
    "                if primeira_ul:\n",
    "                    links = [a['href'] for a in primeira_ul.find_all('a')]\n",
    "                    return links\n",
    "                else:\n",
    "                    return []\n",
    "        except Exception as e:\n",
    "            print(f\"Tentativa {attempt + 1} de {max_attempts} - Erro ao processar {url}: {e}\")\n",
    "            if attempt < max_attempts - 1:\n",
    "                print(\"Tentando novamente...\")\n",
    "            else:\n",
    "                print(\"Número máximo de tentativas atingido. Desistindo.\")\n",
    "                return None\n",
    "\n",
    "\n",
    "with ThreadPoolExecutor(max_workers=40) as executor:\n",
    "    bairros = list(executor.map(extract_links2, cidades_links))\n",
    "\n",
    "bairros_links = [bairro for sublist in bairros for bairro in sublist]\n",
    "bairros_links = list(set(bairros_links))\n",
    "\n"
   ]
  },
  {
   "cell_type": "markdown",
   "metadata": {},
   "source": [
    "Extraindo Ruas"
   ]
  },
  {
   "cell_type": "code",
   "execution_count": null,
   "metadata": {},
   "outputs": [],
   "source": [
    "with ThreadPoolExecutor(max_workers=40) as executor:\n",
    "    ruas = list(executor.map(extract_links2, bairros_links))\n",
    "\n",
    "ruas_links = [rua for sublist in ruas for rua in sublist]\n",
    "ruas_links = list(set(ruas_links))"
   ]
  },
  {
   "cell_type": "code",
   "execution_count": null,
   "metadata": {},
   "outputs": [],
   "source": [
    "def extract_rua_data(rua, max_attempts=5):\n",
    "    for attempt in range(max_attempts):\n",
    "        try:\n",
    "            response = requests.get(rua, headers=headers, timeout=10)\n",
    "            response.raise_for_status()\n",
    "            soup = BeautifulSoup(response.text, 'html.parser')\n",
    "            busca = soup.find('div', class_=\"top__more-infos\")\n",
    "\n",
    "            if busca:\n",
    "                texto = busca.text\n",
    "\n",
    "                dados = {}\n",
    "                for linha in texto.split(\"\\n\"):\n",
    "                    if linha.strip():\n",
    "                        chave, valor = linha.strip().split(\":\", 1)\n",
    "                        dados[chave] = valor\n",
    "\n",
    "                return dados\n",
    "            else:\n",
    "                return None\n",
    "        except Exception as e:\n",
    "            print(f\"Tentativa {attempt + 1} de {max_attempts} - Erro ao processar {rua}: {e}\")\n",
    "            if attempt < max_attempts - 1:\n",
    "                print(\"Tentando novamente...\")\n",
    "            else:\n",
    "                print(\"Número máximo de tentativas atingido. Desistindo.\")\n",
    "                return None\n",
    "\n",
    "rua_data_list = []\n",
    "\n",
    "with ThreadPoolExecutor(max_workers=40) as executor:\n",
    "    rua_data_list = list(executor.map(extract_rua_data, ruas_links))\n",
    "\n",
    "rua_data_list = [data for data in rua_data_list if data]\n",
    "\n",
    "df = pd.DataFrame(columns=[\"Logradouro\", \"CEP\", \"Bairro\", \"Cidade\", \"Estado\"])\n",
    "df = df.append(rua_data_list, ignore_index=True)\n",
    "\n",
    "grupos_estados = df.groupby('Estado')\n",
    "\n",
    "with pd.ExcelWriter('DadosCeps_por_estado.xlsx') as writer:\n",
    "    for estado, dados_estado in grupos_estados:\n",
    "        dados_estado.to_excel(writer, sheet_name=estado, index=False)"
   ]
  }
 ],
 "metadata": {
  "kernelspec": {
   "display_name": "base",
   "language": "python",
   "name": "python3"
  },
  "language_info": {
   "codemirror_mode": {
    "name": "ipython",
    "version": 3
   },
   "file_extension": ".py",
   "mimetype": "text/x-python",
   "name": "python",
   "nbconvert_exporter": "python",
   "pygments_lexer": "ipython3",
   "version": "3.10.9"
  },
  "orig_nbformat": 4
 },
 "nbformat": 4,
 "nbformat_minor": 2
}
